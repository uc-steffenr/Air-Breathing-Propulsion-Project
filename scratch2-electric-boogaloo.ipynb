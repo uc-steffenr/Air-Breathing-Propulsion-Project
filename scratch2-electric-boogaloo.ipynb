{
 "cells": [
  {
   "cell_type": "code",
   "execution_count": 1,
   "metadata": {},
   "outputs": [],
   "source": [
    "import numpy as np\n",
    "from EngineDesign import EngineDesign"
   ]
  },
  {
   "cell_type": "code",
   "execution_count": 2,
   "metadata": {},
   "outputs": [],
   "source": [
    "Ca = 227.5\n",
    "rRatio = 0.6\n",
    "Ut = 355.3"
   ]
  },
  {
   "cell_type": "code",
   "execution_count": 3,
   "metadata": {},
   "outputs": [
    {
     "name": "stdout",
     "output_type": "stream",
     "text": [
      "mc = 65.00 kg/s\n"
     ]
    }
   ],
   "source": [
    "engine = EngineDesign(showValues=True,constant='outer')"
   ]
  },
  {
   "cell_type": "code",
   "execution_count": 4,
   "metadata": {},
   "outputs": [
    {
     "name": "stdout",
     "output_type": "stream",
     "text": [
      "###############################\n",
      "COMPRESSOR SPEED AND DIMENSIONS\n",
      "###############################\n",
      "To13 = 333.80 K\n",
      "po13 = 1.62 bar\n",
      "T13 = 308.05 K\n",
      "p13 = 1.22 bar\n",
      "rho13 = 1.380 kg/m^3\n",
      "\n",
      "po3 = 29.09 bar\n",
      "To3 = 835.56 K\n",
      "T3 = 809.81 K\n",
      "p3 = 26.07 K\n",
      "rho3 = 11.217 kg/m^3\n",
      "\n",
      "rt = 0.3209 m\n",
      "Inlet rr = 0.1925 m\n",
      "Outlet rr = 0.3080 m\n",
      "N = 176.23 rev/s\n",
      "V13t = 421.89 m/s\n",
      "a13 = 351.81 m/s\n",
      "M13t = 1.20\n"
     ]
    }
   ],
   "source": [
    "engine.compressorSpeedandDimensions(Ca,rRatio,Ut)"
   ]
  },
  {
   "cell_type": "code",
   "execution_count": 5,
   "metadata": {},
   "outputs": [
    {
     "name": "stdout",
     "output_type": "stream",
     "text": [
      "###########################\n",
      "COMPRESSOR STAGE ESTIMATION\n",
      "###########################\n",
      "beta1 = 57.37 degrees\n",
      "V1 = 421.89 m/s\n",
      "V2 = 274.23 m/s\n",
      "beta2 = 33.94 degrees\n",
      "delta ToS = 71.48 K\n",
      "Estimated Stages = 7.02 stages\n"
     ]
    }
   ],
   "source": [
    "engine.compressorStageEstimation()"
   ]
  },
  {
   "cell_type": "code",
   "execution_count": 6,
   "metadata": {},
   "outputs": [
    {
     "name": "stdout",
     "output_type": "stream",
     "text": [
      "dToS = 62.72 K\n",
      "First dToS = 59.58 K\n",
      "Other stage dToS = 65.86 K\n",
      "STAGE 1 DEGREE OF REACTION:  0.7579771078621029\n",
      "LAST PORATIO =  1.2546261633058209\n",
      "LAST DT =  57.54761070072587\n",
      "LAM =  0.5\n"
     ]
    }
   ],
   "source": [
    "engine.compressorStageDesign(8,0.65)"
   ]
  }
 ],
 "metadata": {
  "kernelspec": {
   "display_name": "Python 3.10.4 64-bit",
   "language": "python",
   "name": "python3"
  },
  "language_info": {
   "codemirror_mode": {
    "name": "ipython",
    "version": 3
   },
   "file_extension": ".py",
   "mimetype": "text/x-python",
   "name": "python",
   "nbconvert_exporter": "python",
   "pygments_lexer": "ipython3",
   "version": "3.10.4"
  },
  "orig_nbformat": 4,
  "vscode": {
   "interpreter": {
    "hash": "66de6bb996f29723044b4d853e2b008f46c950149b9ce752cac89b47c1a47b53"
   }
  }
 },
 "nbformat": 4,
 "nbformat_minor": 2
}
