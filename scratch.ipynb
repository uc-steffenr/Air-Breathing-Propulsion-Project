{
 "cells": [
  {
   "cell_type": "code",
   "execution_count": 1,
   "metadata": {},
   "outputs": [],
   "source": [
    "import numpy as np\n",
    "import matplotlib.pyplot as plt\n",
    "from EngineDesign import EngineDesign"
   ]
  },
  {
   "cell_type": "code",
   "execution_count": 2,
   "metadata": {},
   "outputs": [
    {
     "name": "stdout",
     "output_type": "stream",
     "text": [
      "mc = 65.00 kg/s\n",
      "mf = 455.00 kg/s\n"
     ]
    }
   ],
   "source": [
    "engine = EngineDesign(showValues=True)"
   ]
  },
  {
   "cell_type": "code",
   "execution_count": 3,
   "metadata": {},
   "outputs": [],
   "source": [
    "Ca = 227.5\n",
    "rRatio = 0.6\n",
    "Ut = 355.3"
   ]
  },
  {
   "cell_type": "code",
   "execution_count": 4,
   "metadata": {},
   "outputs": [
    {
     "name": "stdout",
     "output_type": "stream",
     "text": [
      "###############################\n",
      "COMPRESSOR SPEED AND DIMENSIONS\n",
      "###############################\n",
      "To13 = 333.80 K\n",
      "po13 = 1.62 bar\n",
      "T13 = 308.05 K\n",
      "p13 = 1.22 bar\n",
      "rho13 = 1.380 kg/m^3\n",
      "\n",
      "po3 = 29.09 bar\n",
      "To3 = 835.56 K\n",
      "T3 = 809.81 K\n",
      "p3 = 26.07 K\n",
      "rho3 = 11.217 kg/m^3\n",
      "\n",
      "A3 = 0.0255 m^2\n",
      "h = 0.0158 m\n",
      "Inlet rt = 0.3209 m\n",
      "Inlet rr = 0.1925 m\n",
      "Outlet rt = 0.2646 m\n",
      "Outlet rr = 0.2488 m\n",
      "rm = 0.2567 m\n",
      "N = 176.23 rev/s\n",
      "V13t = 421.89 m/s\n",
      "a13 = 351.81 m/s\n",
      "M13t = 1.20\n"
     ]
    }
   ],
   "source": [
    "engine.compressorSpeedandDimensions(Ca,rRatio,Ut)"
   ]
  },
  {
   "cell_type": "code",
   "execution_count": 5,
   "metadata": {},
   "outputs": [
    {
     "name": "stdout",
     "output_type": "stream",
     "text": [
      "###########################\n",
      "COMPRESSOR STAGE ESTIMATION\n",
      "###########################\n",
      "Um = 284.24 m/s\n",
      "beta1 = 51.33 degrees\n",
      "V1 = 364.07 m/s\n",
      "V2 = 236.65 m/s\n",
      "beta2 = 15.98 degrees\n",
      "delta ToS = 61.96 K\n",
      "Estimated Stages = 8.10 stages\n"
     ]
    }
   ],
   "source": [
    "engine.compressorStageEstimation()"
   ]
  },
  {
   "cell_type": "code",
   "execution_count": 6,
   "metadata": {},
   "outputs": [
    {
     "name": "stdout",
     "output_type": "stream",
     "text": [
      "dToS = 55.75 K\n",
      "First and last dToS = 47.39 K\n",
      "Other stage dToS - 61.33 K\n",
      "beta1 = 0.896\n",
      "beta2 = 0.462\n",
      "Cw2 = 170.98 m/s\n",
      "V2/V1 = 0.698\n"
     ]
    }
   ],
   "source": [
    "engine.compressorStageDesign(9)"
   ]
  },
  {
   "cell_type": "code",
   "execution_count": 7,
   "metadata": {},
   "outputs": [
    {
     "name": "stdout",
     "output_type": "stream",
     "text": [
      "247.5\n",
      "###############################################\n",
      "TURBINE SPEED, DIMENSIONS, AND NUMBER OF STAGES\n",
      "###############################################\n",
      "To4 = 2150.00 K\n",
      "po4 = 28.51 bar\n",
      "T4 = 2123.32 K\n",
      "p4 = 27.12 bar\n",
      "rho4 = 4.450 kg/m^3\n",
      "To5 = 1718.58 K\n",
      "po5 = 10.87 bar\n",
      "T5 = 1691.90 K\n",
      "p5 = 10.21 bar\n",
      "rho5 = 2.103 kg/m^3\n",
      "\n",
      "A4 = 0.0590 m^2\n",
      "h4 = 0.0334 m\n",
      "Turbine Inlet rt = 0.2980 m\n",
      "Turbine Inlet rr = 0.2646 m\n",
      "\n",
      "A5 = 0.1249 m^2\n",
      "h5 = 0.0707 m\n",
      "Turbine Outlet rt = 0.2980 m\n",
      "Turbine Outlet rr = 0.2646 m\n",
      "Turbine rm = 0.2813 m\n",
      "N = 176.23 rev/s\n",
      "V4t = 412.50 m/s\n",
      "a4 = 901.29 m/s\n",
      "M4t = 0.46\n",
      "\n",
      "# of stages:  3.1582965565913264\n"
     ]
    }
   ],
   "source": [
    "Ut_t = 340\n",
    "phi = 0.75\n",
    "psi = 2.88\n",
    "rRatio = 0.6\n",
    "engine.HPturbineab(Ut_t,phi,psi,rRatio)"
   ]
  }
 ],
 "metadata": {
  "kernelspec": {
   "display_name": "Python 3.10.1 64-bit",
   "language": "python",
   "name": "python3"
  },
  "language_info": {
   "codemirror_mode": {
    "name": "ipython",
    "version": 3
   },
   "file_extension": ".py",
   "mimetype": "text/x-python",
   "name": "python",
   "nbconvert_exporter": "python",
   "pygments_lexer": "ipython3",
   "version": "3.10.1"
  },
  "orig_nbformat": 4,
  "vscode": {
   "interpreter": {
    "hash": "5805b1300c9c9cc5050e6e23d8c8298180d311020a6f9ba62570f84fb937730a"
   }
  }
 },
 "nbformat": 4,
 "nbformat_minor": 2
}
