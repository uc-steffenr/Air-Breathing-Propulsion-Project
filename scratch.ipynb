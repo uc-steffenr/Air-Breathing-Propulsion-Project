{
 "cells": [
  {
   "cell_type": "code",
   "execution_count": 1,
   "metadata": {},
   "outputs": [],
   "source": [
    "import numpy as np\n",
    "import matplotlib.pyplot as plt\n",
    "from EngineDesign import EngineDesign"
   ]
  },
  {
   "cell_type": "code",
   "execution_count": 2,
   "metadata": {},
   "outputs": [
    {
     "name": "stdout",
     "output_type": "stream",
     "text": [
      "mc = 65.00 kg/s\n",
      "mf = 455.00 kg/s\n"
     ]
    }
   ],
   "source": [
    "engine = EngineDesign(showValues=True)"
   ]
  },
  {
   "cell_type": "code",
   "execution_count": 3,
   "metadata": {},
   "outputs": [],
   "source": [
    "Ca = 225\n",
    "rRatio = 0.6\n",
    "Ut = 355.3"
   ]
  },
  {
   "cell_type": "code",
   "execution_count": 4,
   "metadata": {},
   "outputs": [
    {
     "name": "stdout",
     "output_type": "stream",
     "text": [
      "###############################\n",
      "COMPRESSOR SPEED AND DIMENSIONS\n",
      "###############################\n",
      "To13 = 333.80 K\n",
      "po13 = 1.62 bar\n",
      "T13 = 308.61 K\n",
      "p13 = 1.23 bar\n",
      "rho13 = 1.386 kg/m^3\n",
      "\n",
      "po3 = 29.09 bar\n",
      "To3 = 835.56 K\n",
      "T3 = 810.38 K\n",
      "p3 = 26.13 K\n",
      "rho3 = 11.236 kg/m^3\n",
      "\n",
      "A3 = 0.0257 m^2\n",
      "h = 0.0159 m\n",
      "Inlet rt = 0.3219 m\n",
      "Inlet rr = 0.1932 m\n",
      "Outlet rt = 0.2655 m\n",
      "Outlet rr = 0.2496 m\n",
      "rm = 0.2575 m\n",
      "N = 175.66 rev/s\n",
      "V13t = 420.55 m/s\n",
      "a13 = 352.13 m/s\n",
      "M13t = 1.19\n"
     ]
    }
   ],
   "source": [
    "engine.compressorSpeedandDimensions(Ca,rRatio,Ut)"
   ]
  },
  {
   "cell_type": "code",
   "execution_count": 5,
   "metadata": {},
   "outputs": [
    {
     "name": "stdout",
     "output_type": "stream",
     "text": [
      "###########################\n",
      "COMPRESSOR STAGE ESTIMATION\n",
      "###########################\n",
      "Um = 284.24 m/s\n",
      "beta1 = 51.64 degrees\n",
      "V1 = 362.52 m/s\n",
      "V2 = 235.63 m/s\n",
      "beta2 = 17.28 degrees\n",
      "delta ToS = 60.59 K\n",
      "Estimated Stages = 8.28 stages\n"
     ]
    }
   ],
   "source": [
    "engine.compressorStageEstimation()"
   ]
  },
  {
   "cell_type": "code",
   "execution_count": 12,
   "metadata": {},
   "outputs": [
    {
     "name": "stdout",
     "output_type": "stream",
     "text": [
      "dToS = 45.62 K\n",
      "First and last dToS = 38.77 K\n",
      "Other stage dToS - 50.18 K\n"
     ]
    }
   ],
   "source": [
    "engine.compressorStageDesign(11)"
   ]
  },
  {
   "cell_type": "code",
   "execution_count": 11,
   "metadata": {},
   "outputs": [
    {
     "name": "stdout",
     "output_type": "stream",
     "text": [
      "[0.0, -7.089226932584177, 8.905230384466112, 7.63624727195004, 7.63624727195004, 7.63624727195004, 7.63624727195004, 7.63624727195004, 7.63624727195004, -81.78741890940572]\n"
     ]
    }
   ],
   "source": [
    "print([i*180/np.pi for i in engine.alpha1_m])"
   ]
  },
  {
   "cell_type": "code",
   "execution_count": 7,
   "metadata": {},
   "outputs": [
    {
     "name": "stdout",
     "output_type": "stream",
     "text": [
      "0.9\n"
     ]
    }
   ],
   "source": [
    "print(engine.eta_inf_c)"
   ]
  }
 ],
 "metadata": {
  "kernelspec": {
   "display_name": "Python 3.10.4 64-bit",
   "language": "python",
   "name": "python3"
  },
  "language_info": {
   "codemirror_mode": {
    "name": "ipython",
    "version": 3
   },
   "file_extension": ".py",
   "mimetype": "text/x-python",
   "name": "python",
   "nbconvert_exporter": "python",
   "pygments_lexer": "ipython3",
   "version": "3.10.4"
  },
  "orig_nbformat": 4,
  "vscode": {
   "interpreter": {
    "hash": "66de6bb996f29723044b4d853e2b008f46c950149b9ce752cac89b47c1a47b53"
   }
  }
 },
 "nbformat": 4,
 "nbformat_minor": 2
}
