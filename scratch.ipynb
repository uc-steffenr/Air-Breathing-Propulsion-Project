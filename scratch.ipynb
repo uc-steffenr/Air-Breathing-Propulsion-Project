{
 "cells": [
  {
   "cell_type": "code",
   "execution_count": 1,
   "metadata": {},
   "outputs": [],
   "source": [
    "import numpy as np\n",
    "import matplotlib.pyplot as plt\n",
    "from EngineDesign import EngineDesign"
   ]
  },
  {
   "cell_type": "code",
   "execution_count": 2,
   "metadata": {},
   "outputs": [
    {
     "name": "stdout",
     "output_type": "stream",
     "text": [
      "mc = 65.00 kg/s\n",
      "mf = 455.00 kg/s\n"
     ]
    }
   ],
   "source": [
    "engine = EngineDesign(showValues=True)"
   ]
  },
  {
   "cell_type": "code",
   "execution_count": 3,
   "metadata": {},
   "outputs": [],
   "source": [
    "Ca = 200\n",
    "rRatio = 0.5\n",
    "Ut = 355.3"
   ]
  },
  {
   "cell_type": "code",
   "execution_count": 4,
   "metadata": {},
   "outputs": [
    {
     "name": "stdout",
     "output_type": "stream",
     "text": [
      "###############################\n",
      "COMPRESSOR SPEED AND DIMENSIONS\n",
      "###############################\n",
      "To13 = 333.80 K\n",
      "po13 = 1.62 bar\n",
      "T13 = 313.89 K\n",
      "p13 = 1.30 bar\n",
      "rho13 = 1.447 kg/m^3\n",
      "\n",
      "po3 = 29.09 bar\n",
      "To3 = 835.56 K\n",
      "T3 = 815.66 K\n",
      "p3 = 26.73 K\n",
      "rho3 = 11.420 kg/m^3\n",
      "\n",
      "A3 = 0.0285 m^2\n",
      "h = 0.0196 m\n",
      "Inlet rt = 0.3088 m\n",
      "Inlet rr = 0.1544 m\n",
      "Outlet rt = 0.2414 m\n",
      "Outlet rr = 0.2218 m\n",
      "rm = 0.2316 m\n",
      "N = 183.13 rev/s\n",
      "V13t = 407.72 m/s\n",
      "a13 = 355.14 m/s\n",
      "M13t = 1.15\n"
     ]
    }
   ],
   "source": [
    "engine.compressorSpeedandDimensions(Ca,rRatio,Ut)"
   ]
  },
  {
   "cell_type": "code",
   "execution_count": 5,
   "metadata": {},
   "outputs": [
    {
     "name": "stdout",
     "output_type": "stream",
     "text": [
      "###########################\n",
      "COMPRESSOR STAGE ESTIMATION\n",
      "###########################\n",
      "Um = 266.48 m/s\n",
      "beta1 = 53.11 degrees\n",
      "V1 = 333.18 m/s\n",
      "V2 = 216.57 m/s\n",
      "beta2 = 22.56 degrees\n",
      "delta ToS = 48.63 K\n",
      "Estimated Stages = 10.32 stages\n"
     ]
    }
   ],
   "source": [
    "engine.compressorStageEstimation()"
   ]
  },
  {
   "cell_type": "code",
   "execution_count": 6,
   "metadata": {},
   "outputs": [
    {
     "name": "stdout",
     "output_type": "stream",
     "text": [
      "dToS = 45.62 K\n",
      "First and last dToS = 38.77 K\n",
      "Other stage dToS - 50.18 K\n",
      "beta1 = 0.927\n",
      "beta2 = 0.530\n",
      "Cw2 = 149.22 m/s\n",
      "V2/V1 = 0.696\n"
     ]
    }
   ],
   "source": [
    "engine.compressorStageDesign(11)"
   ]
  },
  {
   "cell_type": "code",
   "execution_count": 7,
   "metadata": {},
   "outputs": [
    {
     "name": "stdout",
     "output_type": "stream",
     "text": [
      "To4 = 2150.000\n",
      "po4 = 28.506\n"
     ]
    }
   ],
   "source": [
    "rRatio_t = 1\n",
    "Ut_t = 1\n",
    "engine.turbineSpeedandDimensions(rRatio_t, Ut_t)"
   ]
  }
 ],
 "metadata": {
  "kernelspec": {
   "display_name": "Python 3.10.1 64-bit",
   "language": "python",
   "name": "python3"
  },
  "language_info": {
   "codemirror_mode": {
    "name": "ipython",
    "version": 3
   },
   "file_extension": ".py",
   "mimetype": "text/x-python",
   "name": "python",
   "nbconvert_exporter": "python",
   "pygments_lexer": "ipython3",
   "version": "3.10.1"
  },
  "orig_nbformat": 4,
  "vscode": {
   "interpreter": {
    "hash": "5805b1300c9c9cc5050e6e23d8c8298180d311020a6f9ba62570f84fb937730a"
   }
  }
 },
 "nbformat": 4,
 "nbformat_minor": 2
}
