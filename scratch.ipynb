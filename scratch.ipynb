{
 "cells": [
  {
   "cell_type": "code",
   "execution_count": 1,
   "metadata": {},
   "outputs": [],
   "source": [
    "import numpy as np\n",
    "import matplotlib.pyplot as plt\n",
    "from EngineDesign import EngineDesign"
   ]
  },
  {
   "cell_type": "code",
   "execution_count": 2,
   "metadata": {},
   "outputs": [
    {
     "name": "stdout",
     "output_type": "stream",
     "text": [
      "mc = 65.00 kg/s\n",
      "mf = 455.00 kg/s\n"
     ]
    }
   ],
   "source": [
    "engine = EngineDesign(showValues=True)"
   ]
  },
  {
   "cell_type": "code",
   "execution_count": 3,
   "metadata": {},
   "outputs": [],
   "source": [
    "Ca = 225\n",
    "rRatio = 0.6\n",
    "Ut = 355.3"
   ]
  },
  {
   "cell_type": "code",
   "execution_count": 4,
   "metadata": {},
   "outputs": [
    {
     "name": "stdout",
     "output_type": "stream",
     "text": [
      "###############################\n",
      "COMPRESSOR SPEED AND DIMENSIONS\n",
      "###############################\n",
      "To13 = 333.80 K\n",
      "po13 = 1.62 bar\n",
      "T13 = 308.61 K\n",
      "p13 = 1.23 bar\n",
      "rho13 = 1.386 kg/m^3\n",
      "\n",
      "po3 = 29.09 bar\n",
      "To3 = 835.56 K\n",
      "T3 = 810.38 K\n",
      "p3 = 26.13 K\n",
      "rho3 = 11.236 kg/m^3\n",
      "\n",
      "A3 = 0.0257 m^2\n",
      "h = 0.0159 m\n",
      "Inlet rt = 0.3219 m\n",
      "Inlet rr = 0.1932 m\n",
      "Outlet rt = 0.2655 m\n",
      "Outlet rr = 0.2496 m\n",
      "rm = 0.2575 m\n",
      "N = 175.66 rev/s\n",
      "V13t = 420.55 m/s\n",
      "a13 = 352.13 m/s\n",
      "M13t = 1.19\n"
     ]
    }
   ],
   "source": [
    "engine.compressorSpeedandDimensions(Ca,rRatio,Ut)"
   ]
  },
  {
   "cell_type": "code",
   "execution_count": 5,
   "metadata": {},
   "outputs": [
    {
     "name": "stdout",
     "output_type": "stream",
     "text": [
      "###########################\n",
      "COMPRESSOR STAGE ESTIMATION\n",
      "###########################\n",
      "Um = 284.24 m/s\n",
      "beta1 = 51.64 degrees\n",
      "V1 = 362.52 m/s\n",
      "V2 = 235.63 m/s\n",
      "beta2 = 17.28 degrees\n",
      "delta ToS = 60.59 K\n",
      "Estimated Stages = 8.28 stages\n"
     ]
    }
   ],
   "source": [
    "engine.compressorStageEstimation()"
   ]
  },
  {
   "cell_type": "code",
   "execution_count": 6,
   "metadata": {},
   "outputs": [
    {
     "name": "stdout",
     "output_type": "stream",
     "text": [
      "dToS = 55.75 K\n",
      "First and last dToS = 47.39 K\n",
      "Other stage dToS - 61.33 K\n",
      "beta1 = 0.901\n",
      "beta2 = 0.466\n",
      "Cw2 = 170.98 m/s\n",
      "V2/V1 = 0.695\n"
     ]
    }
   ],
   "source": [
    "engine.compressorStageDesign(9)"
   ]
  },
  {
   "cell_type": "code",
   "execution_count": 7,
   "metadata": {},
   "outputs": [
    {
     "name": "stdout",
     "output_type": "stream",
     "text": [
      "############################\n",
      "TURBINE SPEED AND DIMENSIONS\n",
      "############################\n",
      "To4 = 2150.00 K\n",
      "po4 = 28.51 bar\n",
      "T4 = 2069.11 K\n",
      "p4 = 24.45 bar\n",
      "rho4 = 4.117 kg/m^3\n",
      "\n",
      "A4 = 0.2564 m^2\n",
      "h = 0.0159 m\n",
      "Turbine Inlet rt = 0.3571 m\n",
      "Turbine Inlet rr = 0.2143 m\n",
      "Turbine Outlet rt = 0.3571 m\n",
      "Turbine Outlet rr = 0.2143 m\n",
      "Turbine rm = 0.2857 m\n",
      "N = 175.66 rev/s\n",
      "V4t = 584.02 m/s\n",
      "a4 = 889.71 m/s\n",
      "M4t = 0.66\n"
     ]
    }
   ],
   "source": [
    "phi = 0.75\n",
    "psi = 3.0\n",
    "DegReact = 0.5\n",
    "rRatio = 0.6\n",
    "engine.HPturbineSpeedandDimensions(phi,psi,DegReact,rRatio)"
   ]
  }
 ],
 "metadata": {
  "kernelspec": {
   "display_name": "Python 3.10.1 64-bit",
   "language": "python",
   "name": "python3"
  },
  "language_info": {
   "codemirror_mode": {
    "name": "ipython",
    "version": 3
   },
   "file_extension": ".py",
   "mimetype": "text/x-python",
   "name": "python",
   "nbconvert_exporter": "python",
   "pygments_lexer": "ipython3",
   "version": "3.10.1"
  },
  "orig_nbformat": 4,
  "vscode": {
   "interpreter": {
    "hash": "5805b1300c9c9cc5050e6e23d8c8298180d311020a6f9ba62570f84fb937730a"
   }
  }
 },
 "nbformat": 4,
 "nbformat_minor": 2
}
