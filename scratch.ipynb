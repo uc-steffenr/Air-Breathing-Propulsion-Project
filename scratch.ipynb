{
 "cells": [
  {
   "cell_type": "code",
   "execution_count": 6,
   "metadata": {},
   "outputs": [],
   "source": [
    "import numpy as np\n",
    "import matplotlib.pyplot as plt\n",
    "from EngineDesign import EngineDesign"
   ]
  },
  {
   "cell_type": "code",
   "execution_count": 7,
   "metadata": {},
   "outputs": [],
   "source": [
    "engine = EngineDesign(showValues=True)"
   ]
  },
  {
   "cell_type": "code",
   "execution_count": 8,
   "metadata": {},
   "outputs": [],
   "source": [
    "Ca = 150\n",
    "rRatio = 0.5\n",
    "Ut = 355.3"
   ]
  },
  {
   "cell_type": "code",
   "execution_count": 9,
   "metadata": {},
   "outputs": [
    {
     "name": "stdout",
     "output_type": "stream",
     "text": [
      "###############################\n",
      "COMPRESSOR SPEED AND DIMENSIONS\n",
      "###############################\n",
      "To13 = 333.80 K\n",
      "po13 = 1.62 bar\n",
      "T13 = 322.60 K\n",
      "p13 = 1.43 bar\n",
      "rho13 = 1.549 kg/m^3\n",
      "\n",
      "po3 = 29.09 bar\n",
      "To3 = 835.56 K\n",
      "T3 = 824.37 K\n",
      "p3 = 27.75 K\n",
      "rho3 = 11.728 kg/m^3\n",
      "\n",
      "A3 = 0.0369 m^2\n",
      "h = 0.0228 m\n",
      "Inlet rt = 0.3446 m\n",
      "Inlet rr = 0.1723 m\n",
      "Outlet rt = 0.2698 m\n",
      "Outlet rr = 0.2471 m\n",
      "rm = 0.2584 m\n",
      "N = 164.11 rev/s\n",
      "V13t = 385.67 m/s\n",
      "a13 = 360.03 m/s\n",
      "M13t = 1.07\n"
     ]
    }
   ],
   "source": [
    "engine.compressorSpeedandDimensions(Ca,rRatio,Ut)"
   ]
  },
  {
   "cell_type": "code",
   "execution_count": 10,
   "metadata": {},
   "outputs": [
    {
     "name": "stdout",
     "output_type": "stream",
     "text": [
      "###########################\n",
      "COMPRESSOR STAGE ESTIMATION\n",
      "###########################\n",
      "Um = 266.48 m/s\n",
      "beta1 = 60.62 degrees\n",
      "V1 = 305.79 m/s\n",
      "V2 = 220.17 m/s\n",
      "beta2 = 47.06 degrees\n",
      "delta ToS = 27.92 K\n",
      "Estimated Stages = 19.61 stages\n"
     ]
    }
   ],
   "source": [
    "engine.compressorStageEstimation()"
   ]
  }
 ],
 "metadata": {
  "kernelspec": {
   "display_name": "Python 3.10.4 64-bit",
   "language": "python",
   "name": "python3"
  },
  "language_info": {
   "codemirror_mode": {
    "name": "ipython",
    "version": 3
   },
   "file_extension": ".py",
   "mimetype": "text/x-python",
   "name": "python",
   "nbconvert_exporter": "python",
   "pygments_lexer": "ipython3",
   "version": "3.10.4"
  },
  "orig_nbformat": 4,
  "vscode": {
   "interpreter": {
    "hash": "66de6bb996f29723044b4d853e2b008f46c950149b9ce752cac89b47c1a47b53"
   }
  }
 },
 "nbformat": 4,
 "nbformat_minor": 2
}
