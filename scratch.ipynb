{
 "cells": [
  {
   "cell_type": "code",
   "execution_count": 1,
   "metadata": {},
   "outputs": [],
   "source": [
    "import numpy as np\n",
    "import matplotlib.pyplot as plt\n",
    "from EngineDesign import EngineDesign"
   ]
  },
  {
   "cell_type": "code",
   "execution_count": 2,
   "metadata": {},
   "outputs": [
    {
     "name": "stdout",
     "output_type": "stream",
     "text": [
      "mc = 65.00 kg/s\n"
     ]
    }
   ],
   "source": [
    "engine = EngineDesign(showValues=True)"
   ]
  },
  {
   "cell_type": "code",
   "execution_count": 3,
   "metadata": {},
   "outputs": [],
   "source": [
    "Ca = 227.5\n",
    "rRatio = 0.5\n",
    "Ut = 355.3"
   ]
  },
  {
   "cell_type": "code",
   "execution_count": 4,
   "metadata": {},
   "outputs": [
    {
     "name": "stdout",
     "output_type": "stream",
     "text": [
      "###############################\n",
      "COMPRESSOR SPEED AND DIMENSIONS\n",
      "###############################\n",
      "To13 = 333.80 K\n",
      "po13 = 1.62 bar\n",
      "T13 = 308.05 K\n",
      "p13 = 1.22 bar\n",
      "rho13 = 1.380 kg/m^3\n",
      "\n",
      "po3 = 29.09 bar\n",
      "To3 = 835.56 K\n",
      "T3 = 809.81 K\n",
      "p3 = 26.07 K\n",
      "rho3 = 11.217 kg/m^3\n",
      "\n",
      "A3 = 0.0255 m^2\n",
      "h = 0.0182 m\n",
      "Inlet rt = 0.2964 m\n",
      "Inlet rr = 0.1482 m\n",
      "Outlet rt = 0.2314 m\n",
      "Outlet rr = 0.2132 m\n",
      "rm = 0.2223 m\n",
      "N = 190.77 rev/s\n",
      "V13t = 421.89 m/s\n",
      "a13 = 351.81 m/s\n",
      "M13t = 1.20\n"
     ]
    }
   ],
   "source": [
    "engine.compressorSpeedandDimensions(Ca,rRatio,Ut)"
   ]
  },
  {
   "cell_type": "code",
   "execution_count": 5,
   "metadata": {},
   "outputs": [
    {
     "name": "stdout",
     "output_type": "stream",
     "text": [
      "###########################\n",
      "COMPRESSOR STAGE ESTIMATION\n",
      "###########################\n",
      "Um = 266.48 m/s\n",
      "beta1 = 49.51 degrees\n",
      "V1 = 350.38 m/s\n",
      "V2 = 227.75 m/s\n",
      "beta2 = 2.66 degrees\n",
      "delta ToS = 67.85 K\n",
      "Estimated Stages = 7.40 stages\n"
     ]
    }
   ],
   "source": [
    "engine.compressorStageEstimation()"
   ]
  },
  {
   "cell_type": "code",
   "execution_count": 6,
   "metadata": {},
   "outputs": [
    {
     "name": "stdout",
     "output_type": "stream",
     "text": [
      "dToS = 55.75 K\n",
      "First dToS = 52.96 K\n",
      "Other stage dToS = 61.94 K\n",
      "STAGE 1 DEGREE OF REACTION:  0.6175440716833231\n",
      "STAGE 2 ROTOR FAILS DEHALLER, V2/V1 = 0.64\n",
      "802.3434669310712\n",
      "25.99807547968764\n",
      "LAST PORATIO =  1.1188520482112811\n",
      "LAST DT =  29.06886413546844\n",
      "LAM =  0.5\n"
     ]
    }
   ],
   "source": [
    "engine.compressorStageDesign(9,0.55)"
   ]
  },
  {
   "cell_type": "code",
   "execution_count": 7,
   "metadata": {},
   "outputs": [
    {
     "name": "stdout",
     "output_type": "stream",
     "text": [
      "29.087999999999994\n",
      "831.4123310665397\n"
     ]
    }
   ],
   "source": [
    "print(engine.po3_real)\n",
    "print(engine.To3_real)"
   ]
  },
  {
   "cell_type": "code",
   "execution_count": 8,
   "metadata": {},
   "outputs": [],
   "source": [
    "engine.compressorAirAngles()"
   ]
  },
  {
   "cell_type": "code",
   "execution_count": 9,
   "metadata": {},
   "outputs": [],
   "source": [
    "# TODO Add method to tabulate the air angles"
   ]
  }
 ],
 "metadata": {
  "kernelspec": {
   "display_name": "Python 3.10.4 64-bit",
   "language": "python",
   "name": "python3"
  },
  "language_info": {
   "codemirror_mode": {
    "name": "ipython",
    "version": 3
   },
   "file_extension": ".py",
   "mimetype": "text/x-python",
   "name": "python",
   "nbconvert_exporter": "python",
   "pygments_lexer": "ipython3",
   "version": "3.10.4"
  },
  "orig_nbformat": 4,
  "vscode": {
   "interpreter": {
    "hash": "66de6bb996f29723044b4d853e2b008f46c950149b9ce752cac89b47c1a47b53"
   }
  }
 },
 "nbformat": 4,
 "nbformat_minor": 2
}
